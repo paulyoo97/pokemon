{
 "cells": [
  {
   "attachments": {},
   "cell_type": "markdown",
   "metadata": {},
   "source": [
    "# Webscrape Pokedex Data"
   ]
  },
  {
   "attachments": {},
   "cell_type": "markdown",
   "metadata": {},
   "source": [
    "##### Project Set Up:\n",
    "1. Web-scrape data (www.pokemondb.net) and organize into a table\n",
    "2. Web-scrape images of each pokemon\n",
    "3. Utilize data to deploy app"
   ]
  },
  {
   "cell_type": "code",
   "execution_count": null,
   "metadata": {},
   "outputs": [],
   "source": [
    "# Retrieve data on the Pokemon\n",
    "from selenium import webdriver  # webdriver is what is driving the action\n",
    "from selenium.webdriver.support.select import Select\n",
    "from selenium.webdriver.common.keys import Keys  # Gives access to keys such as enter, space, escape.\n",
    "from selenium.webdriver.common.by import By  # These three imports are required for wait.\n",
    "from selenium.webdriver.support.ui import WebDriverWait\n",
    "from selenium.webdriver.support import expected_conditions as EC\n",
    "import time\n",
    "\n",
    "def pokemon_names():\n",
    "    global names\n",
    "    global links\n",
    "    names = []\n",
    "    links = []\n",
    "    PATH = 'XXXXXXXXXXXXXX'\n",
    "    driver = webdriver.Chrome(PATH)\n",
    "    region = 'https://pokemondb.net/pokedex/game/firered-leafgreen'     # Kanto Region\n",
    "    driver.get(region)\n",
    "    global pokedex\n",
    "    pokedex = driver.find_elements(By.CLASS_NAME,'ent-name')\n",
    "    for i in range(len(pokedex)):\n",
    "        links.append(pokedex[i].get_attribute('href'))\n",
    "\n",
    "    for i in range(len(pokedex)):\n",
    "       names.append(pokedex[i].text)\n",
    "pokemon_names()\n",
    "# print(names)\n",
    "# print(links)"
   ]
  },
  {
   "cell_type": "code",
   "execution_count": null,
   "metadata": {},
   "outputs": [],
   "source": [
    "def find_stats():\n",
    "    global stats\n",
    "    from selenium.common.exceptions import NoSuchElementException\n",
    "    stats = {'Name':[],'Type1':[],'Type2':[],'Species':[],'Height':[],'Weight':[],'Entry':[],'First Ability':[],'Second Ability':[]}\n",
    "    PATH = 'XXXXXXXXXXXXXX'\n",
    "    driver = webdriver.Chrome(PATH)\n",
    "    for i in range(len(pokedex)):\n",
    "        pokemon = links[i]\n",
    "        driver.get(pokemon)\n",
    "        types = driver.find_elements(By.XPATH,'/html/body/main/div[2]/div[2]/div/div[1]/div[2]/table/tbody/tr[2]/td/a')\n",
    "        species = driver.find_element(By.XPATH,'/html/body/main/div[2]/div[2]/div/div[1]/div[2]/table/tbody/tr[3]/td')\n",
    "        height = driver.find_element(By.XPATH,'/html/body/main/div[2]/div[2]/div/div[1]/div[2]/table/tbody/tr[4]/td')\n",
    "        weight = driver.find_element(By.XPATH,'/html/body/main/div[2]/div[2]/div/div[1]/div[2]/table/tbody/tr[5]/td')\n",
    "        entry = driver.find_element(By.CLASS_NAME,'cell-med-text')\n",
    "        ability1 = driver.find_element(By.XPATH,'/html/body/main/div[2]/div[2]/div/div[1]/div[2]/table/tbody/tr[6]/td/span/a')\n",
    "        try:\n",
    "            ability2 = driver.find_element(By.XPATH,'/html/body/main/div[2]/div[2]/div/div[1]/div[2]/table/tbody/tr[6]/td/small/a')\n",
    "            ability2 = ability2.text\n",
    "        except NoSuchElementException:\n",
    "            ability2 = 'None'\n",
    "\n",
    "        try:\n",
    "            type1 = str(types[0].text)\n",
    "            type2 = str(types[1].text)\n",
    "            time.sleep(2)\n",
    "        except IndexError:\n",
    "            type1 = types[0].text\n",
    "            type2 = ''\n",
    "\n",
    "        stats['Name'].append(names[i])\n",
    "        stats['Type1'].append(type1)\n",
    "        stats['Type2'].append(type2)\n",
    "        stats['Species'].append(species.text)\n",
    "        stats['Height'].append(height.text)\n",
    "        stats['Weight'].append(weight.text)\n",
    "        stats['Entry'].append(entry.text)\n",
    "        stats['First Ability'].append(ability1.text)\n",
    "        stats['Second Ability'].append(ability2)\n",
    "    import pandas as pd\n",
    "    stats = pd.DataFrame(stats, columns=['Name','Type1','Type2','Species','Height','Weight','Entry','First Ability','Second Ability'])\n",
    "    print(stats)\n",
    "find_stats()"
   ]
  },
  {
   "cell_type": "code",
   "execution_count": null,
   "metadata": {},
   "outputs": [],
   "source": [
    "# Create a function to download all pokemon images\n",
    "import requests\n",
    "import shutil\n",
    "\n",
    "names\n",
    "links\n",
    "\n",
    "def get_image():\n",
    "    PATH = 'XXXXXXXXXXXXXX'\n",
    "    driver = webdriver.Chrome(PATH)\n",
    "    for i in range(len(pokedex)):\n",
    "        driver.get(links[i])\n",
    "        img = driver.find_element(By.XPATH,'/html/body/main/div[2]/div[2]/div/div[1]/div[1]/p[1]/a/picture/img')\n",
    "        src = img.get_attribute('src')\n",
    "        url = src\n",
    "        response = requests.get(url,stream=True)\n",
    "        with open(f'{names[i]}.jpg','wb') as out_file:\n",
    "            shutil.copyfileobj(response.raw,out_file)\n",
    "        del response\n",
    "get_image()"
   ]
  },
  {
   "cell_type": "code",
   "execution_count": null,
   "metadata": {},
   "outputs": [],
   "source": [
    "# Export Pokemon stats as an excel file.\n",
    "\n",
    "import pandas as pd\n",
    "with pd.ExcelWriter('XXXXXXXXXXXXXX/Pokedex.xlsx') as writer:\n",
    "    stats.to_excel(writer,sheet_name='Kanto',index=False)\n",
    "        "
   ]
  }
 ],
 "metadata": {
  "kernelspec": {
   "display_name": "Python 3",
   "language": "python",
   "name": "python3"
  },
  "language_info": {
   "codemirror_mode": {
    "name": "ipython",
    "version": 3
   },
   "file_extension": ".py",
   "mimetype": "text/x-python",
   "name": "python",
   "nbconvert_exporter": "python",
   "pygments_lexer": "ipython3",
   "version": "3.10.5"
  },
  "orig_nbformat": 4,
  "vscode": {
   "interpreter": {
    "hash": "d79af3a7e450baeab169c06d8a97bfb87dfd362ef5622665fb69a71c7b4e7bda"
   }
  }
 },
 "nbformat": 4,
 "nbformat_minor": 2
}
